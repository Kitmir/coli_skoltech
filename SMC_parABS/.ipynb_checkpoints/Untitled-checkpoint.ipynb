{
 "cells": [
  {
   "cell_type": "markdown",
   "metadata": {},
   "source": [
    "# SMC and parABS system"
   ]
  },
  {
   "cell_type": "markdown",
   "metadata": {},
   "source": [
    "## Search for parS sites"
   ]
  },
  {
   "cell_type": "markdown",
   "metadata": {},
   "source": [
    "### Retrieving parS sequences from [Livny 2007 paper](https://jb.asm.org/content/189/23/8693)"
   ]
  },
  {
   "cell_type": "code",
   "execution_count": 41,
   "metadata": {},
   "outputs": [],
   "source": [
    "import pandas as pd"
   ]
  },
  {
   "cell_type": "code",
   "execution_count": 42,
   "metadata": {},
   "outputs": [],
   "source": [
    "excel_file = \"C:/Users/DDD/coli_skoltech/SMC_parABS/Livny_S2.xls\"\n",
    "df = pd.read_excel(excel_file)"
   ]
  },
  {
   "cell_type": "code",
   "execution_count": 43,
   "metadata": {},
   "outputs": [],
   "source": [
    "header = df.iloc[1]\n",
    "df = df[2:]\n",
    "df = df.rename(columns = header)"
   ]
  },
  {
   "cell_type": "code",
   "execution_count": 44,
   "metadata": {},
   "outputs": [],
   "source": [
    "output_handle = open(\"C:/Users/DDD/coli_skoltech/SMC_parABS/par_s_sites_unaligned.fasta\", \"w\")\n",
    "for line in range(0,len(df)):\n",
    "    output_handle.write('>' + df.iloc[line][0] + '\\n')\n",
    "    output_handle.write(df.iloc[line][8] + '\\n')\n",
    "output_handle.close()"
   ]
  },
  {
   "cell_type": "markdown",
   "metadata": {},
   "source": [
    "### MSA by [MAFFT](https://mafft.cbrc.jp/alignment/server/large.html)\n",
    "\n",
    "**Scoring matrix for nucleotide sequences**: '1PAM / κ=2'  \n",
    "**Strategy**: L-large-INS-1  \n",
    "**Output file**: C:/Users/DDD/coli_skoltech/SMC_parABS/MAFFT-FFT-NS-2_parS.aln"
   ]
  },
  {
   "cell_type": "code",
   "execution_count": null,
   "metadata": {},
   "outputs": [],
   "source": [
    "сканирование. есть сложности со сканированием плюс.минус цепей. /ppsm = ожидаемоая вероятность (не забудь)"
   ]
  },
  {
   "cell_type": "code",
   "execution_count": 81,
   "metadata": {},
   "outputs": [],
   "source": [
    "from Bio import motifs\n",
    "from Bio import SeqIO\n",
    "from Bio import AlignIO\n",
    "from Bio.Alphabet import IUPAC, Gapped\n",
    "alphabet = Gapped(IUPAC.unambiguous_dna)\n",
    "alignment = AlignIO.read(\"C:/Users/DDD/coli_skoltech/SMC_parABS/MAFFT-FFT-NS-2_parS.aln\", \"clustal\", alphabet=alphabet)"
   ]
  },
  {
   "cell_type": "code",
   "execution_count": null,
   "metadata": {},
   "outputs": [],
   "source": [
    "motif_from_aln = motifs.create(alignment) s896\n",
    "\n",
    "aligned_par_s = Seq\n",
    "m=motifs.create(instances)\n",
    "\n",
    "for record in SeqIO.parse(\"C:/Users/DDD/coli_skoltech/SMC_parABS/MAFFT-FFT-NS-2_parS.aln\", \"clustal\"):\n",
    "    print(\"%s %i\" % (record.id, len(record)))"
   ]
  },
  {
   "cell_type": "code",
   "execution_count": null,
   "metadata": {},
   "outputs": [],
   "source": []
  },
  {
   "cell_type": "code",
   "execution_count": null,
   "metadata": {},
   "outputs": [],
   "source": []
  },
  {
   "cell_type": "code",
   "execution_count": null,
   "metadata": {},
   "outputs": [],
   "source": []
  },
  {
   "cell_type": "code",
   "execution_count": null,
   "metadata": {},
   "outputs": [],
   "source": []
  },
  {
   "cell_type": "code",
   "execution_count": null,
   "metadata": {},
   "outputs": [],
   "source": []
  }
 ],
 "metadata": {
  "kernelspec": {
   "display_name": "Python 3",
   "language": "python",
   "name": "python3"
  },
  "language_info": {
   "codemirror_mode": {
    "name": "ipython",
    "version": 3
   },
   "file_extension": ".py",
   "mimetype": "text/x-python",
   "name": "python",
   "nbconvert_exporter": "python",
   "pygments_lexer": "ipython3",
   "version": "3.5.4"
  }
 },
 "nbformat": 4,
 "nbformat_minor": 2
}
