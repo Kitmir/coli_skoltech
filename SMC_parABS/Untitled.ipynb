{
 "cells": [
  {
   "cell_type": "markdown",
   "metadata": {},
   "source": [
    "## SMC and parABS system"
   ]
  },
  {
   "cell_type": "markdown",
   "metadata": {},
   "source": [
    "### Search for parS sites"
   ]
  },
  {
   "cell_type": "markdown",
   "metadata": {},
   "source": [
    "#### Retrieving parS sequences from [Livny 2007 paper](https://jb.asm.org/content/189/23/8693)"
   ]
  },
  {
   "cell_type": "code",
   "execution_count": 41,
   "metadata": {},
   "outputs": [],
   "source": [
    "import pandas as pd"
   ]
  },
  {
   "cell_type": "code",
   "execution_count": 42,
   "metadata": {},
   "outputs": [],
   "source": [
    "excel_file = \"C:/Users/DDD/coli_skoltech/SMC_parABS/Livny_S2.xls\"\n",
    "df = pd.read_excel(excel_file)\n",
    "\n",
    "header = df.iloc[1]\n",
    "df = df[2:]\n",
    "df = df.rename(columns = header)"
   ]
  },
  {
   "cell_type": "code",
   "execution_count": 43,
   "metadata": {},
   "outputs": [],
   "source": [
    "output_handle = open(\"C:/Users/DDD/coli_skoltech/SMC_parABS/par_s_sites_unaligned.fasta\", \"w\")\n",
    "for line in range(0,len(df)):\n",
    "    output_handle.write('>' + df.iloc[line][0] + '\\n')\n",
    "    output_handle.write(df.iloc[line][8] + '\\n')\n",
    "output_handle.close()"
   ]
  },
  {
   "cell_type": "markdown",
   "metadata": {},
   "source": [
    "#### MSA by [MAFFT](https://mafft.cbrc.jp/alignment/server/large.html)\n",
    "##### MSA parameters:\n",
    "* **Scoring matrix for nucleotide sequences**: '1PAM / κ=2'  \n",
    "* **Strategy**: L-large-INS-1  \n",
    "* **Output file**: C:/Users/DDD/coli_skoltech/SMC_parABS/MAFFT-FFT-NS-2_parS.aln"
   ]
  },
  {
   "cell_type": "code",
   "execution_count": null,
   "metadata": {},
   "outputs": [],
   "source": [
    "сканирование. есть сложности со сканированием плюс.минус цепей. /ppsm = ожидаемоая вероятность (не забудь)"
   ]
  },
  {
   "cell_type": "code",
   "execution_count": 81,
   "metadata": {},
   "outputs": [],
   "source": [
    "from Bio import motifs\n",
    "from Bio import SeqIO\n",
    "from Bio import AlignIO\n",
    "from Bio.Alphabet import IUPAC, Gapped\n",
    "alphabet = Gapped(IUPAC.unambiguous_dna)\n",
    "alignment = AlignIO.read(\"C:/Users/DDD/coli_skoltech/SMC_parABS/MAFFT-FFT-NS-2_parS.aln\", \"clustal\", alphabet=alphabet)"
   ]
  },
  {
   "cell_type": "code",
   "execution_count": null,
   "metadata": {},
   "outputs": [],
   "source": [
    "motif_from_aln = motifs.create(alignment) s896\n",
    "\n",
    "aligned_par_s = Seq\n",
    "m=motifs.create(instances)\n",
    "\n",
    "for record in SeqIO.parse(\"C:/Users/DDD/coli_skoltech/SMC_parABS/MAFFT-FFT-NS-2_parS.aln\", \"clustal\"):\n",
    "    print(\"%s %i\" % (record.id, len(record)))"
   ]
  },
  {
   "cell_type": "markdown",
   "metadata": {},
   "source": [
    "### ParA and ParB search in _Vibrio sp._ and _Pseudomonas sp._"
   ]
  },
  {
   "attachments": {},
   "cell_type": "markdown",
   "metadata": {},
   "source": [
    "#### BLASTP\n",
    "\n",
    "##### Search parameters\n",
    "\n",
    "Query sequences: [ParA][Bacillus subtilis sporulation initiation inhibitor Soj] and [ParB][Bacillus subtilis chromosome partitioning protein ParB] from [Bacillus subtilis][B_sub]\n",
    "\n",
    "##### Results\n",
    "\n",
    "**ParB in _Pseudomonas_**  \n",
    "Selected hit: [SQG56722.1][SQG56722.1]\n",
    "![Pseudomonas ParB blastp][Pseudomonas ParB blastp]\n",
    "\n",
    "**ParA in _Pseudomonas_**\n",
    "\n",
    "\n",
    "\n",
    "\n",
    "\n",
    "\n",
    "[Bacillus subtilis sporulation initiation inhibitor Soj]: https://www.ncbi.nlm.nih.gov/protein/ASK26183.1\n",
    "[Bacillus subtilis chromosome partitioning protein ParB]: https://www.ncbi.nlm.nih.gov/protein/ASK26185.1\n",
    "[B_sub]: https://www.ncbi.nlm.nih.gov/Taxonomy/Browser/wwwtax.cgi?id=1423\n",
    "[Pseudomonas ParB blastp]: https://raw.githubusercontent.com/argafurov/coli_skoltech/master/SMC_parABS/blast/blastp_parb_pseudomonas.png\n",
    "[SQG56722.1]: https://www.ncbi.nlm.nih.gov/protein/SQG56722.1?report=genbank&log$=prottop&blast_rank=5&RID=50Z12FU4013"
   ]
  },
  {
   "cell_type": "code",
   "execution_count": null,
   "metadata": {},
   "outputs": [],
   "source": []
  },
  {
   "cell_type": "code",
   "execution_count": null,
   "metadata": {},
   "outputs": [],
   "source": []
  },
  {
   "cell_type": "code",
   "execution_count": null,
   "metadata": {},
   "outputs": [],
   "source": []
  }
 ],
 "metadata": {
  "kernelspec": {
   "display_name": "Python 3",
   "language": "python",
   "name": "python3"
  },
  "language_info": {
   "codemirror_mode": {
    "name": "ipython",
    "version": 3
   },
   "file_extension": ".py",
   "mimetype": "text/x-python",
   "name": "python",
   "nbconvert_exporter": "python",
   "pygments_lexer": "ipython3",
   "version": "3.5.4"
  }
 },
 "nbformat": 4,
 "nbformat_minor": 2
}
